{
 "cells": [
  {
   "cell_type": "markdown",
   "metadata": {},
   "source": [
    "1\\. Find the total mean, and the mean for each row and column of the following matrix:\n",
    "\n",
    "```python\n",
    "m = np.arange(12).reshape((3,4))\n",
    "```"
   ]
  },
  {
   "cell_type": "code",
   "execution_count": 2,
   "metadata": {},
   "outputs": [
    {
     "data": {
      "text/plain": [
       "array([[ 0,  1,  2,  3],\n",
       "       [ 4,  5,  6,  7],\n",
       "       [ 8,  9, 10, 11]])"
      ]
     },
     "execution_count": 2,
     "metadata": {},
     "output_type": "execute_result"
    }
   ],
   "source": [
    "import numpy as np\n",
    "m = np.arange(12).reshape((3,4))\n",
    "m"
   ]
  },
  {
   "cell_type": "code",
   "execution_count": 3,
   "metadata": {},
   "outputs": [],
   "source": [
    "total_mea = np.mean(m)\n",
    "row1 = np.mean(m[0])\n",
    "row2 = np.mean(m[0])\n",
    "row3 = np.mean(m[0])\n",
    "\n",
    "# col1 = np.mean(m[:][3])\n",
    "\n",
    "col1 = np.mean(m[:,0])\n",
    "col2 = np.mean(m[:,1])\n",
    "col3 = np.mean(m[:,2])\n",
    "col4 = np.mean(m[:,3])\n",
    "\n"
   ]
  },
  {
   "cell_type": "markdown",
   "metadata": {},
   "source": [
    "2\\. Find the outer product of the following vectors:\n",
    "\n",
    "```python\n",
    "u = np.array([1, 3, 5, 7])\n",
    "v = np.array([2, 4, 6, 8])\n",
    "```\n",
    "\n",
    "Use different methods to do this:\n",
    "\n",
    "   1. Using the function `outer` in numpy\n",
    "   2. Using a nested `for` loop or a list comprehension\n",
    "   3. Using numpy broadcasting operations"
   ]
  },
  {
   "cell_type": "code",
   "execution_count": 4,
   "metadata": {},
   "outputs": [
    {
     "data": {
      "text/plain": [
       "array([[ 2,  6, 10, 14],\n",
       "       [ 4, 12, 20, 28],\n",
       "       [ 6, 18, 30, 42],\n",
       "       [ 8, 24, 40, 56]])"
      ]
     },
     "execution_count": 4,
     "metadata": {},
     "output_type": "execute_result"
    }
   ],
   "source": [
    "u = np.array([1, 3, 5, 7])\n",
    "v = np.array([2, 4, 6, 8])\n",
    "\n",
    "#1\n",
    "num_out = np.outer(u,v)\n",
    "# print(num_out)\n",
    "#2\n",
    "mul = []\n",
    "for element_u in u:\n",
    "    mul2 = []\n",
    "    for element_v in v:\n",
    "        mul2.append(element_u*element_v)\n",
    "    mul.append(mul2)\n",
    "mul = np.array(mul)\n",
    "# print(mul)\n",
    "#3 \n",
    "\n",
    "list_comp = np.array([items_u*items_v for items_u in u for items_v in v]).reshape(4,4)\n",
    "# print(list_comp)\n",
    "#4 broadcasting opearations\n",
    "\n",
    "u*v.reshape(4,1)\n"
   ]
  },
  {
   "cell_type": "markdown",
   "metadata": {},
   "source": [
    "3\\. Create a 10 by 6 matrix of increasing float numbers, starting from zero and increasing in each step by 0.1, so the output matrix looks like the following:\n",
    "\n",
    "```python\n",
    "m = [[0. 0.1, 0.2 0.3 ... 0.9]\n",
    "     [1.0 1.1 1.2 1.3 ... 1.9]\n",
    "     ...\n",
    "     [5.0 5.1 5.2 5.3 ... 5.9]]\n",
    "```\n",
    "After creating the matrix, set all entries with a decimal part $< 0.4$ to zero."
   ]
  },
  {
   "cell_type": "code",
   "execution_count": 5,
   "metadata": {},
   "outputs": [
    {
     "data": {
      "text/plain": [
       "array([0.        , 0.10169492, 0.20338983, 0.30508475, 0.40677966,\n",
       "       0.50847458, 0.61016949, 0.71186441, 0.81355932, 0.91525424,\n",
       "       1.01694915, 1.11864407, 1.22033898, 1.3220339 , 1.42372881,\n",
       "       1.52542373, 1.62711864, 1.72881356, 1.83050847, 1.93220339,\n",
       "       2.03389831, 2.13559322, 2.23728814, 2.33898305, 2.44067797,\n",
       "       2.54237288, 2.6440678 , 2.74576271, 2.84745763, 2.94915254,\n",
       "       3.05084746, 3.15254237, 3.25423729, 3.3559322 , 3.45762712,\n",
       "       3.55932203, 3.66101695, 3.76271186, 3.86440678, 3.96610169,\n",
       "       4.06779661, 4.16949153, 4.27118644, 4.37288136, 4.47457627,\n",
       "       4.57627119, 4.6779661 , 4.77966102, 4.88135593, 4.98305085,\n",
       "       5.08474576, 5.18644068, 5.28813559, 5.38983051, 5.49152542,\n",
       "       5.59322034, 5.69491525, 5.79661017, 5.89830508, 6.        ])"
      ]
     },
     "execution_count": 5,
     "metadata": {},
     "output_type": "execute_result"
    }
   ],
   "source": [
    "# print(np.linspace(start = 0, stop = 6, num=60, endpoint=True, retstep=True, dtype=None, axis=0,step = 0.1).reshape(10,6))\n",
    "np.linspace(start = 0, stop = 6, num=60, endpoint=True, retstep=False, dtype=None, axis=0)"
   ]
  },
  {
   "cell_type": "markdown",
   "metadata": {},
   "source": [
    "4\\. Use `np.linspace` to create an array of 100 numbers between 0 and 2π (inclusive).\n",
    "\n",
    "  * Extract every 10th element using the slice notation\n",
    "  * Reverse the array using the slice notation\n",
    "  * Extract elements where the absolute difference between the sin and cos functions evaluated for that element is $< 0.1$\n",
    "  * **Optional**: make a plot showing the sin and cos functions and indicate where they are close"
   ]
  },
  {
   "cell_type": "code",
   "execution_count": 8,
   "metadata": {},
   "outputs": [
    {
     "data": {
      "text/plain": [
       "{0.7615982190520711, 0.8250647373064104, 3.8714576135146945, 3.934924131769034}"
      ]
     },
     "execution_count": 8,
     "metadata": {},
     "output_type": "execute_result"
    }
   ],
   "source": [
    "arr1 = np.linspace(start = 0, stop = np.pi*2, num=100, endpoint=True, retstep=False, dtype=None, axis=0)\n",
    "arr_reversed = arr1[::-1]\n",
    "arr_10th = arr1[::10]\n",
    "arr_sin_cos = np.where(np.absolute(np.sin(arr1)-np.cos(arr1))<0.1,arr1,None)\n",
    "#np.delete(arr_sin_cos,None)\n",
    "arr_sin_cos = set(arr_sin_cos)\n",
    "arr_sin_cos.remove(None)\n",
    "arr_sin_cos"
   ]
  },
  {
   "cell_type": "code",
   "execution_count": 17,
   "metadata": {},
   "outputs": [
    {
     "data": {
      "text/plain": [
       "array([0.        , 0.06346652, 0.12693304, 0.19039955, 0.25386607,\n",
       "       0.31733259, 0.38079911, 0.44426563, 0.50773215, 0.57119866,\n",
       "       0.63466518, 0.6981317 , 0.76159822, 0.82506474, 0.88853126,\n",
       "       0.95199777, 1.01546429, 1.07893081, 1.14239733, 1.20586385,\n",
       "       1.26933037, 1.33279688, 1.3962634 , 1.45972992, 1.52319644,\n",
       "       1.58666296, 1.65012947, 1.71359599, 1.77706251, 1.84052903,\n",
       "       1.90399555, 1.96746207, 2.03092858, 2.0943951 , 2.15786162,\n",
       "       2.22132814, 2.28479466, 2.34826118, 2.41172769, 2.47519421,\n",
       "       2.53866073, 2.60212725, 2.66559377, 2.72906028, 2.7925268 ,\n",
       "       2.85599332, 2.91945984, 2.98292636, 3.04639288, 3.10985939,\n",
       "       3.17332591, 3.23679243, 3.30025895, 3.36372547, 3.42719199,\n",
       "       3.4906585 , 3.55412502, 3.61759154, 3.68105806, 3.74452458,\n",
       "       3.8079911 , 3.87145761, 3.93492413, 3.99839065, 4.06185717,\n",
       "       4.12532369, 4.1887902 , 4.25225672, 4.31572324, 4.37918976,\n",
       "       4.44265628, 4.5061228 , 4.56958931, 4.63305583, 4.69652235,\n",
       "       4.75998887, 4.82345539, 4.88692191, 4.95038842, 5.01385494,\n",
       "       5.07732146, 5.14078798, 5.2042545 , 5.26772102, 5.33118753,\n",
       "       5.39465405, 5.45812057, 5.52158709, 5.58505361, 5.64852012,\n",
       "       5.71198664, 5.77545316, 5.83891968, 5.9023862 , 5.96585272,\n",
       "       6.02931923, 6.09278575, 6.15625227, 6.21971879, 6.28318531])"
      ]
     },
     "execution_count": 17,
     "metadata": {},
     "output_type": "execute_result"
    }
   ],
   "source": [
    "arr1"
   ]
  },
  {
   "cell_type": "markdown",
   "metadata": {},
   "source": [
    "5\\. Create a matrix that shows the 10 by 10 multiplication table.\n",
    "\n",
    " * Find the trace of the matrix\n",
    " * Extract the anti-diagonal matrix (this should be ```array([10, 18, 24, 28, 30, 30, 28, 24, 18, 10])```)\n",
    " * Extract the diagonal offset by 1 upwards (this should be ```array([ 2,  6, 12, 20, 30, 42, 56, 72, 90])```)"
   ]
  },
  {
   "cell_type": "code",
   "execution_count": 71,
   "metadata": {},
   "outputs": [],
   "source": [
    "ten_by_ten = np.arange(1,11)\n",
    "ten_by_ten = ten_by_ten*ten_by_ten[:,None]\n",
    "trace = np.trace(ten_by_ten)\n",
    "# trace = sum(np.arange(0,11)*np.arange(0,11))\n",
    "flipped = np.fliplr(ten_by_ten)\n",
    "anti_diag = np.diag(flipped)\n",
    "\n",
    "one_upwards = [ten_by_ten[i][i-1] for i in range(1,len(ten_by_ten))]"
   ]
  },
  {
   "cell_type": "markdown",
   "metadata": {},
   "source": [
    "6\\. Use broadcasting to create a grid of distances.\n",
    "\n",
    "Route 66 crosses the following cities in the US: Chicago, Springfield, Saint-Louis, Tulsa, Oklahoma City, Amarillo, Santa Fe, Albuquerque, Flagstaff, Los Angeles\n",
    "The corresponding positions in miles are: 0, 198, 303, 736, 871, 1175, 1475, 1544, 1913, 2448\n",
    "\n",
    "  * Build a 2D grid of distances among each city along Route 66\n",
    "  * Convert the distances in km"
   ]
  },
  {
   "cell_type": "code",
   "execution_count": 76,
   "metadata": {},
   "outputs": [
    {
     "data": {
      "text/plain": [
       "array([   0,  198,  303,  736,  871, 1175, 1475, 1544, 1913, 2448,    0,\n",
       "        198,  303,  736,  871, 1175, 1475, 1544, 1913, 2448,    0,  198,\n",
       "        303,  736,  871, 1175, 1475, 1544, 1913, 2448,    0,  198,  303,\n",
       "        736,  871, 1175, 1475, 1544, 1913, 2448,    0,  198,  303,  736,\n",
       "        871, 1175, 1475, 1544, 1913, 2448,    0,  198,  303,  736,  871,\n",
       "       1175, 1475, 1544, 1913, 2448,    0,  198,  303,  736,  871, 1175,\n",
       "       1475, 1544, 1913, 2448,    0,  198,  303,  736,  871, 1175, 1475,\n",
       "       1544, 1913, 2448,    0,  198,  303,  736,  871, 1175, 1475, 1544,\n",
       "       1913, 2448,    0,  198,  303,  736,  871, 1175, 1475, 1544, 1913,\n",
       "       2448])"
      ]
     },
     "execution_count": 76,
     "metadata": {},
     "output_type": "execute_result"
    }
   ],
   "source": [
    "cities = [ \"Chicago\", \"Springfield\", \"Saint-Louis\", \"Tulsa\", \"Oklahoma City\", \"Amarillo\",\"Santa Fe\", \"Albuquerque\", \"Flagstaff\", \"Los Angeles\"]\n",
    "distances = [0, 198, 303, 736, 871, 1175, 1475, 1544, 1913, 2448]\n",
    "grid = np.tile(distances,len(distances))\n",
    "grid"
   ]
  },
  {
   "cell_type": "markdown",
   "metadata": {},
   "source": [
    "7\\. Prime numbers sieve: compute the prime numbers in the 0-N (start with N=99) range with a sieve (mask).\n",
    "  * Check the performances (timeit); how does it scale with N?\n",
    "  * Implement the optimization suggested in the [sieve of Eratosthenes](https://en.wikipedia.org/wiki/Sieve_of_Eratosthenes)"
   ]
  },
  {
   "cell_type": "code",
   "execution_count": 123,
   "metadata": {},
   "outputs": [],
   "source": [
    "def prime_computer(N):\n",
    "    \n",
    "    tmp = np.ones(N, dtype=bool)\n",
    "    tmp[0] = tmp[1] = False\n",
    "    for i in range(2, N):\n",
    "        # We could use a lower upper bound for this loop, but I don't want to bother with\n",
    "        # getting the rounding right on the sqrt handling.\n",
    "        if tmp[i]:\n",
    "            tmp[i*i::i] = False\n",
    "    return np.flatnonzero(tmp)\n",
    "        "
   ]
  },
  {
   "cell_type": "code",
   "execution_count": 2,
   "metadata": {},
   "outputs": [
    {
     "ename": "AttributeError",
     "evalue": "'function' object has no attribute 'prime_computer'",
     "output_type": "error",
     "traceback": [
      "\u001b[1;31m---------------------------------------------------------------------------\u001b[0m",
      "\u001b[1;31mAttributeError\u001b[0m                            Traceback (most recent call last)",
      "\u001b[1;32m<ipython-input-2-f0370e88365c>\u001b[0m in \u001b[0;36m<module>\u001b[1;34m\u001b[0m\n\u001b[0;32m      1\u001b[0m \u001b[1;32mimport\u001b[0m \u001b[0mtimeit\u001b[0m\u001b[1;33m\u001b[0m\u001b[1;33m\u001b[0m\u001b[0m\n\u001b[1;32m----> 2\u001b[1;33m \u001b[0mtimeit\u001b[0m\u001b[1;33m.\u001b[0m\u001b[0mtimeit\u001b[0m\u001b[1;33m.\u001b[0m\u001b[0mprime_computer\u001b[0m\u001b[1;33m(\u001b[0m\u001b[1;36m99\u001b[0m\u001b[1;33m)\u001b[0m\u001b[1;33m\u001b[0m\u001b[1;33m\u001b[0m\u001b[0m\n\u001b[0m\u001b[0;32m      3\u001b[0m \u001b[1;31m#prime_computer(99)\u001b[0m\u001b[1;33m\u001b[0m\u001b[1;33m\u001b[0m\u001b[1;33m\u001b[0m\u001b[0m\n",
      "\u001b[1;31mAttributeError\u001b[0m: 'function' object has no attribute 'prime_computer'"
     ]
    }
   ],
   "source": [
    "import timeit\n",
    "timeit.timeit.prime_computer(99)\n",
    "#prime_computer(99)\n"
   ]
  },
  {
   "cell_type": "code",
   "execution_count": null,
   "metadata": {},
   "outputs": [],
   "source": [
    "#time it and sin cos plot missing"
   ]
  }
 ],
 "metadata": {
  "kernelspec": {
   "display_name": "Python 3 (ipykernel)",
   "language": "python",
   "name": "python3"
  },
  "language_info": {
   "codemirror_mode": {
    "name": "ipython",
    "version": 3
   },
   "file_extension": ".py",
   "mimetype": "text/x-python",
   "name": "python",
   "nbconvert_exporter": "python",
   "pygments_lexer": "ipython3",
   "version": "3.8.8"
  }
 },
 "nbformat": 4,
 "nbformat_minor": 2
}
